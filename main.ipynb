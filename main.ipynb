{
 "cells": [
  {
   "cell_type": "code",
   "execution_count": 101,
   "metadata": {},
   "outputs": [],
   "source": [
    "import matplotlib.pyplot as plt\n",
    "import numpy as np\n",
    "import torch\n",
    "\n",
    "import kornia.io.io as kio\n",
    "import kornia.augmentation as K\n",
    "import kornia.enhance as kenh\n",
    "import torch.nn as nn\n",
    "import random\n",
    "import os\n"
   ]
  },
  {
   "cell_type": "code",
   "execution_count": 102,
   "metadata": {},
   "outputs": [
    {
     "data": {
      "text/plain": [
       "'import os\\n\\nfor file in os.listdir(\"D:\\\\Vision Lab\\\\lab\\\\droneprojectworkspace\\\\sunum\\\\yolo\"):\\n    if not file.count(\"pred\"):\\n        os.system(f\"copy \"D:\\\\Vision Lab\\\\lab\\\\droneprojectworkspace\\\\sunum\\\\yolo\\\\{file}\" \"images/{file}\"\")'"
      ]
     },
     "execution_count": 102,
     "metadata": {},
     "output_type": "execute_result"
    }
   ],
   "source": [
    "# Script to copy images to this directory\n",
    "\"\"\"import os\n",
    "\n",
    "for file in os.listdir(\"D:\\Vision Lab\\lab\\droneprojectworkspace\\sunum\\yolo\"):\n",
    "    if not file.count(\"pred\"):\n",
    "        os.system(f\"copy \\\"D:\\Vision Lab\\lab\\droneprojectworkspace\\sunum\\yolo\\{file}\\\" \\\"images/{file}\\\"\")\"\"\"\n"
   ]
  },
  {
   "cell_type": "code",
   "execution_count": 103,
   "metadata": {},
   "outputs": [],
   "source": [
    "# Converts C x H x W to H x W x C\n",
    "def to_hwc(img: torch.Tensor):\n",
    "    return img.permute(1, 2, 0).int()\n"
   ]
  },
  {
   "cell_type": "code",
   "execution_count": 104,
   "metadata": {},
   "outputs": [],
   "source": [
    "# Load image (C x H x W): https://kornia.readthedocs.io/en/latest/io.html\n",
    "imgs = [kio.load_image(f\"images/{file}\", kio.ImageLoadType.UNCHANGED).float() / 255 for file in os.listdir(\"images\")]\n",
    "img = imgs[4]"
   ]
  },
  {
   "cell_type": "code",
   "execution_count": 105,
   "metadata": {},
   "outputs": [],
   "source": [
    "from math import pi\n",
    "from random import shuffle\n",
    "\n",
    "\n",
    "def random_factor():\n",
    "    return random.random()\n",
    "\n",
    "def random_hue_factor():\n",
    "    factor = random.random() # [0, 1)\n",
    "    factor -= 0.5 # [-0.5, 0.5)\n",
    "    factor *= 2 # [-1, 1)\n",
    "    factor *= pi # [-pi, pi]\n",
    "    assert -pi <= factor <= pi\n",
    "    return factor\n",
    "    \n",
    "def apply():\n",
    "    return random.randint(0, 1)\n",
    "\n",
    "def apply_random_adjustment(img: torch.Tensor):\n",
    "    # assert torch.Tensor(0) <= img.min() and img.max <= torch.Tensor(1)\n",
    "    adjusters = [\n",
    "        # kenh.AdjustBrightness(random_factor() / 2), # https://kornia.readthedocs.io/en/latest/enhance.html#kornia.enhance.AdjustBrightness\n",
    "        kenh.AdjustContrast(random_factor()), # https://kornia.readthedocs.io/en/latest/enhance.html#kornia.enhance.AdjustContrast\n",
    "        kenh.AdjustGamma(1.5 * random_factor()), # https://kornia.readthedocs.io/en/latest/enhance.html#kornia.enhance.AdjustGamma\n",
    "        kenh.AdjustHue(random_hue_factor() * 0.95), # https://kornia.readthedocs.io/en/latest/enhance.html#kornia.enhance.AdjustHue\n",
    "        kenh.AdjustSaturation(1.5 * random_factor()), # https://kornia.readthedocs.io/en/latest/enhance.html#kornia.enhance.AdjustSaturation\n",
    "        kenh.Invert(),\n",
    "    ]\n",
    "\n",
    "    shuffle(adjusters)\n",
    "    \n",
    "    res = torch.Tensor(img)\n",
    "    for adj in adjusters:\n",
    "        if apply():\n",
    "            res = adj(res)\n",
    "            res += res.min()\n",
    "            res /= res.max()\n",
    "    return res\n"
   ]
  },
  {
   "cell_type": "code",
   "execution_count": null,
   "metadata": {},
   "outputs": [],
   "source": [
    "rows = 5\n",
    "cols = 5\n",
    "for i, img in enumerate(imgs):\n",
    "    fig, axes = plt.subplots(rows, cols)\n",
    "    fig.set_dpi(1000)\n",
    "    for r in range(rows):\n",
    "        for c in range(cols):\n",
    "            adjusted = apply_random_adjustment(img)\n",
    "            adjusted *= 255\n",
    "            adjusted = to_hwc(adjusted)\n",
    "            axes[r][c].imshow(adjusted)\n",
    "            axes[r][c].get_xaxis().set_visible(False)\n",
    "            axes[r][c].get_yaxis().set_visible(False)\n",
    "    # plt.show()\n",
    "    plt.savefig(f\"augmented/{i}.png\");\n",
    "    print(f\"{i} of {len(imgs)} completed\")"
   ]
  }
 ],
 "metadata": {
  "kernelspec": {
   "display_name": "Python 3.8.10 64-bit",
   "language": "python",
   "name": "python3"
  },
  "language_info": {
   "codemirror_mode": {
    "name": "ipython",
    "version": 3
   },
   "file_extension": ".py",
   "mimetype": "text/x-python",
   "name": "python",
   "nbconvert_exporter": "python",
   "pygments_lexer": "ipython3",
   "version": "3.8.10"
  },
  "orig_nbformat": 4,
  "vscode": {
   "interpreter": {
    "hash": "661a13c469d2e2487c35feacecfd90000e967b26aa0b18942d292f21ded722ce"
   }
  }
 },
 "nbformat": 4,
 "nbformat_minor": 2
}
